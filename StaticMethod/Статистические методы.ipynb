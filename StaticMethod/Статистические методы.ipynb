{
 "cells": [
  {
   "cell_type": "markdown",
   "id": "b42ba240",
   "metadata": {},
   "source": [
    "# Статистические методы\n",
    "\n",
    "Библиотека NumPy предоставляет несколько методов для выполнения статистического анализа по всему массиву в целом или по одной из его осей.\n",
    "\n",
    "## Порядковая статистика\n",
    "\n",
    "### Максимумы и минимумы\n",
    "\n",
    "Мы уже использовали методы ```np.min``` и ```np.max``` для поиска минимальных и максимальных значений в массиве (эти методы также доступны по именам ```np.amin```\n",
    "и ```np.ama```x). Если массив содержит одно или несколько значений ```NaN```, то соответствующим минимальным или максимальным значением будет ```np.nan```.Чтобы не учитывать значения ```NaN```, следует использовать ```np.nanmin``` и ```np.nanmax```:"
   ]
  },
  {
   "cell_type": "code",
   "execution_count": 2,
   "id": "ec08b8b3",
   "metadata": {},
   "outputs": [
    {
     "name": "stderr",
     "output_type": "stream",
     "text": [
      "<ipython-input-2-c2bae3382bc6>:2: RuntimeWarning: invalid value encountered in sqrt\n",
      "  a = np.sqrt(np.linspace(-2, 2, 4))\n"
     ]
    }
   ],
   "source": [
    "import numpy as np\n",
    "a = np.sqrt(np.linspace(-2, 2, 4))"
   ]
  },
  {
   "cell_type": "code",
   "execution_count": 3,
   "id": "5b778081",
   "metadata": {},
   "outputs": [
    {
     "name": "stdout",
     "output_type": "stream",
     "text": [
      "[       nan        nan 0.81649658 1.41421356]\n"
     ]
    }
   ],
   "source": [
    "print(a)"
   ]
  },
  {
   "cell_type": "code",
   "execution_count": 4,
   "id": "b21c52e6",
   "metadata": {},
   "outputs": [
    {
     "data": {
      "text/plain": [
       "(nan, nan)"
      ]
     },
     "execution_count": 4,
     "metadata": {},
     "output_type": "execute_result"
    }
   ],
   "source": [
    "np.min(a), np.max(a)"
   ]
  },
  {
   "cell_type": "code",
   "execution_count": 5,
   "id": "8a0c8ea2",
   "metadata": {},
   "outputs": [
    {
     "data": {
      "text/plain": [
       "(0.8164965809277259, 1.4142135623730951)"
      ]
     },
     "execution_count": 5,
     "metadata": {},
     "output_type": "execute_result"
    }
   ],
   "source": [
    "np.nanmin(a), np.nanmax(a)"
   ]
  },
  {
   "cell_type": "markdown",
   "id": "24c75335",
   "metadata": {},
   "source": [
    "Нам также встречались функции ```np.argmin``` и ```np.argmax```, которые возвращают индекс минимальных и максимальных значений в массиве, для них тоже\n",
    "существуют варианты ```np.nanargmin``` и ```np.nanargmax```:"
   ]
  },
  {
   "cell_type": "code",
   "execution_count": 6,
   "id": "c4829907",
   "metadata": {},
   "outputs": [
    {
     "data": {
      "text/plain": [
       "(0, 0)"
      ]
     },
     "execution_count": 6,
     "metadata": {},
     "output_type": "execute_result"
    }
   ],
   "source": [
    " np.argmin(a), np.argmax(a)"
   ]
  },
  {
   "cell_type": "code",
   "execution_count": 7,
   "id": "2b254a8e",
   "metadata": {},
   "outputs": [
    {
     "data": {
      "text/plain": [
       "(2, 3)"
      ]
     },
     "execution_count": 7,
     "metadata": {},
     "output_type": "execute_result"
    }
   ],
   "source": [
    "np.nanargmin(a), np.nanargmax(a)"
   ]
  },
  {
   "cell_type": "markdown",
   "id": "43c3fb1d",
   "metadata": {},
   "source": [
    "Родственные методы ```np.fmin``` / ```np.fmax``` и ```np.minimum``` / ```np.maximum``` сравнивают\n",
    "два массива элемент за элементом и возвращают другой массив той же формы.\n",
    "Первая пара методов не учитывает значения NaN, вторая пара методов передает значения ```NaN``` в итоговый массив. Например:"
   ]
  },
  {
   "cell_type": "code",
   "execution_count": 8,
   "id": "368abf03",
   "metadata": {},
   "outputs": [
    {
     "data": {
      "text/plain": [
       "array([ 0., -5., -1., -1.])"
      ]
     },
     "execution_count": 8,
     "metadata": {},
     "output_type": "execute_result"
    }
   ],
   "source": [
    " np.fmin([1, -5, 6, 2], [0, np.nan, -1, -1])"
   ]
  },
  {
   "cell_type": "code",
   "execution_count": 9,
   "id": "ba34d8ba",
   "metadata": {},
   "outputs": [
    {
     "data": {
      "text/plain": [
       "array([ 1., nan,  6.,  2.])"
      ]
     },
     "execution_count": 9,
     "metadata": {},
     "output_type": "execute_result"
    }
   ],
   "source": [
    "np.maximum([1, -5, 6, 2], [0, np.nan, -1, -1])"
   ]
  },
  {
   "cell_type": "markdown",
   "id": "d171bed2",
   "metadata": {},
   "source": [
    "## Процентили"
   ]
  },
  {
   "cell_type": "markdown",
   "id": "a44a25d5",
   "metadata": {},
   "source": [
    "Метод ```np.percentile``` возвращает определенный процентиль ```q```  по данным\n",
    "некоторой оси (или по данным линеаризованной версии массива, если ось\n",
    "не задана). Минимум массива – это значение с ```q = 0``` (с нулевым процентилем),\n",
    "максимум массива – это значение с ```q = 100``` (с 100-м процентилем), а медианное (срединное) значение соответствует ```q  = 50``` (50-му процентилю). Если в массиве несколько значений точно соответствуют требуемому значению ```q```,\n",
    "то используется взвешенное среднее значение двух таких ближайших значений. Например:"
   ]
  },
  {
   "cell_type": "code",
   "execution_count": 11,
   "id": "eefda0e8",
   "metadata": {},
   "outputs": [],
   "source": [
    "a = np.array([[0., 0.6, 1.2], [1.8, 2.4, 3.0]])"
   ]
  },
  {
   "cell_type": "code",
   "execution_count": 12,
   "id": "bfb651f7",
   "metadata": {},
   "outputs": [
    {
     "data": {
      "text/plain": [
       "1.5"
      ]
     },
     "execution_count": 12,
     "metadata": {},
     "output_type": "execute_result"
    }
   ],
   "source": [
    "np.percentile(a, 50)"
   ]
  },
  {
   "cell_type": "code",
   "execution_count": 13,
   "id": "28e48ee1",
   "metadata": {},
   "outputs": [
    {
     "data": {
      "text/plain": [
       "2.25"
      ]
     },
     "execution_count": 13,
     "metadata": {},
     "output_type": "execute_result"
    }
   ],
   "source": [
    "np.percentile(a, 75)"
   ]
  },
  {
   "cell_type": "code",
   "execution_count": 14,
   "id": "2e37ff88",
   "metadata": {},
   "outputs": [
    {
     "data": {
      "text/plain": [
       "array([0.6, 2.4])"
      ]
     },
     "execution_count": 14,
     "metadata": {},
     "output_type": "execute_result"
    }
   ],
   "source": [
    "np.percentile(a, 50, axis=1)"
   ]
  },
  {
   "cell_type": "code",
   "execution_count": 15,
   "id": "114f9ec9",
   "metadata": {},
   "outputs": [
    {
     "data": {
      "text/plain": [
       "array([0.9, 2.7])"
      ]
     },
     "execution_count": 15,
     "metadata": {},
     "output_type": "execute_result"
    }
   ],
   "source": [
    "np.percentile(a, 75, axis=1)"
   ]
  },
  {
   "cell_type": "markdown",
   "id": "e6a81a96",
   "metadata": {},
   "source": [
    "# Средние значения, дисперсии и корреляции"
   ]
  },
  {
   "cell_type": "markdown",
   "id": "228159c2",
   "metadata": {},
   "source": [
    "## Средние значения"
   ]
  },
  {
   "cell_type": "markdown",
   "id": "a3d5976f",
   "metadata": {},
   "source": [
    "В дополнение к методу ```np.mean```, который вычисляет арифметическое среднее\n",
    "для значений в заданной оси массива,библиотека NumPy предоставляет методы\n",
    "для вычисления взвешенного среднего значения,медианы, стандартного отклонения и дисперсии. Взвешенное среднее значение вычисляется по формуле"
   ]
  },
  {
   "cell_type": "markdown",
   "id": "b532ff51",
   "metadata": {},
   "source": [
    "![](1.png)"
   ]
  },
  {
   "cell_type": "markdown",
   "id": "f91c5bb3",
   "metadata": {},
   "source": [
    "где весовые коэффициенты ```wi``` представлены как последовательность той же\n",
    "длины, что и массив. Например:"
   ]
  },
  {
   "cell_type": "code",
   "execution_count": 17,
   "id": "bef2af8d",
   "metadata": {},
   "outputs": [],
   "source": [
    "x = np.array([1., 4., 9., 16.])"
   ]
  },
  {
   "cell_type": "code",
   "execution_count": 18,
   "id": "de1cb420",
   "metadata": {},
   "outputs": [
    {
     "data": {
      "text/plain": [
       "7.5"
      ]
     },
     "execution_count": 18,
     "metadata": {},
     "output_type": "execute_result"
    }
   ],
   "source": [
    "np.mean(x)"
   ]
  },
  {
   "cell_type": "code",
   "execution_count": 19,
   "id": "0007436a",
   "metadata": {},
   "outputs": [
    {
     "data": {
      "text/plain": [
       "6.5"
      ]
     },
     "execution_count": 19,
     "metadata": {},
     "output_type": "execute_result"
    }
   ],
   "source": [
    " np.median(x)"
   ]
  },
  {
   "cell_type": "code",
   "execution_count": 20,
   "id": "e5993db2",
   "metadata": {},
   "outputs": [
    {
     "data": {
      "text/plain": [
       "5.25"
      ]
     },
     "execution_count": 20,
     "metadata": {},
     "output_type": "execute_result"
    }
   ],
   "source": [
    "np.average(x, weights=[0., 3., 1., 0.])"
   ]
  },
  {
   "cell_type": "markdown",
   "id": "85a4afcd",
   "metadata": {},
   "source": [
    "Если необходима сумма весовых коэффициентов, а  также взвешенное\n",
    "среднее значение, то для аргумента ```returned``` устанавливается значение ```True```.\n",
    "В  следующем примере демонстрируется этот подход, а  также определяются\n",
    "взвешенные средние значения в каждой строке (```axis=1``` средние значения по\n",
    "столбцам двумерного массива):"
   ]
  },
  {
   "cell_type": "code",
   "execution_count": 21,
   "id": "d3db1553",
   "metadata": {},
   "outputs": [],
   "source": [
    "x = np.array( [[1., 8., 27], [-0.5, 1., 0.]] )"
   ]
  },
  {
   "cell_type": "code",
   "execution_count": 22,
   "id": "1675e887",
   "metadata": {},
   "outputs": [],
   "source": [
    "av, sw = np.average(x, weights=[0., 1., 0.1], axis=1, returned=True)"
   ]
  },
  {
   "cell_type": "code",
   "execution_count": 23,
   "id": "30a816f6",
   "metadata": {},
   "outputs": [
    {
     "name": "stdout",
     "output_type": "stream",
     "text": [
      "[9.72727273 0.90909091]\n"
     ]
    }
   ],
   "source": [
    " print(av)"
   ]
  },
  {
   "cell_type": "code",
   "execution_count": 24,
   "id": "6918f3fa",
   "metadata": {},
   "outputs": [
    {
     "name": "stdout",
     "output_type": "stream",
     "text": [
      "[1.1 1.1]\n"
     ]
    }
   ],
   "source": [
    "print(sw)"
   ]
  },
  {
   "cell_type": "markdown",
   "id": "664e3b68",
   "metadata": {},
   "source": [
    "Таким образом, средние значения равны (1 × 8 + 0.1 × 27)/1.1 = 9.72727273 и\n",
    "(1 × 1.)/1.1 = 0.90909091, где 1.1 – сумма весовых коэффициентов."
   ]
  },
  {
   "cell_type": "markdown",
   "id": "decc0ae2",
   "metadata": {},
   "source": [
    "## Стандартные отклонения и дисперсии"
   ]
  },
  {
   "cell_type": "markdown",
   "id": "55271d36",
   "metadata": {},
   "source": [
    "Функция ```np.std``` вычисляет по умолчанию нескорректированное стандартное\n",
    "отклонение выборки по формуле:"
   ]
  },
  {
   "cell_type": "markdown",
   "id": "f5f303d7",
   "metadata": {},
   "source": [
    "![](2.png)"
   ]
  },
  {
   "cell_type": "markdown",
   "id": "5ad7f70c",
   "metadata": {},
   "source": [
    "где ```xi``` – ```N``` наблюдаемых значений в массиве, а ```x``` – их среднее значение (меана).\n",
    "Для вычисления скорректированного стандартного отклонения выборки по формуле"
   ]
  },
  {
   "cell_type": "markdown",
   "id": "951e480f",
   "metadata": {},
   "source": [
    "![](3.png)"
   ]
  },
  {
   "cell_type": "markdown",
   "id": "aa7db4c1",
   "metadata": {},
   "source": [
    "в аргумент ```ddof``` передается значение ```δ```, такое, что ```N − δ``` является числом степеней свободы в конкретной выборке. \n",
    "Например, если значения выборки извлекаются из совокупности независимо с заменой и используются для вычисления \n",
    "```x```, то существует ```N − 1``` степеней свободы в векторе разностей, используемом для\n",
    "вычисления ```σ```: ```(x1 − x, x2 − x,…, xN − x)```, следовательно, ```δ = 1```. Например:"
   ]
  },
  {
   "cell_type": "code",
   "execution_count": 28,
   "id": "464b7172",
   "metadata": {},
   "outputs": [],
   "source": [
    "x = np.array([1., 2., 3., 4.])"
   ]
  },
  {
   "cell_type": "code",
   "execution_count": 29,
   "id": "a80734d4",
   "metadata": {},
   "outputs": [
    {
     "data": {
      "text/plain": [
       "1.118033988749895"
      ]
     },
     "execution_count": 29,
     "metadata": {},
     "output_type": "execute_result"
    }
   ],
   "source": [
    "np.std(x) # Или x.std(), нескорректированное стандартное отклонение."
   ]
  },
  {
   "cell_type": "code",
   "execution_count": 30,
   "id": "25b383b0",
   "metadata": {},
   "outputs": [
    {
     "data": {
      "text/plain": [
       "1.2909944487358056"
      ]
     },
     "execution_count": 30,
     "metadata": {},
     "output_type": "execute_result"
    }
   ],
   "source": [
    "np.std(x, ddof=1) # Скорректированное стандартное отклонение."
   ]
  },
  {
   "cell_type": "markdown",
   "id": "d409bbeb",
   "metadata": {},
   "source": [
    "Функция ```np.nanstd``` вычисляет стандартное отклонение без учета значений\n",
    "```np.nan``` (поэтому ```N``` – это количество не-NaN значений в массиве). В NumPy также имеются методы для вычисления дисперсии значений в  массиве: ```np.var``` и ```np.nanvar```."
   ]
  },
  {
   "cell_type": "markdown",
   "id": "82c8943d",
   "metadata": {},
   "source": [
    "Ковариацию возвращает метод ```np.cov```. При самом простом вызове в  него\n",
    "можно передать один двумерный массив ```X```, в  котором строки представляют\n",
    "переменные ```xi```, а столбцы – наблюдения значений каждой переменной. Тогда ```np.cov(X)``` возвращает матрицу ковариации ```Cij```, показывающую, как переменная ```xi``` изменяется по сравнению с переменной ```xj```.Элемент ```Cij``` называют оценкой ковариации переменных ```xi``` и ```xj```:"
   ]
  },
  {
   "cell_type": "markdown",
   "id": "5432b315",
   "metadata": {},
   "source": [
    "![](4.png)"
   ]
  },
  {
   "cell_type": "markdown",
   "id": "e30c2ef5",
   "metadata": {},
   "source": [
    "где ```μi``` – среднее значение переменной ```xi```\n",
    ", а ```E[ ]``` обозначает ожидаемое значение. Если существует ```N``` наблюдаемых значений для каждой переменной, то\n",
    "```μi = 1/N∑k*xik```. Тогда несмещенная оценка ковариации:"
   ]
  },
  {
   "cell_type": "markdown",
   "id": "3b41faa8",
   "metadata": {},
   "source": [
    "![](5.png)"
   ]
  },
  {
   "cell_type": "markdown",
   "id": "a96a3f86",
   "metadata": {},
   "source": [
    "Это поведение по умолчанию метода ```np.cov```, но если для аргумента ```bias``` установлено значение 1, то ```N``` используется в знаменателе формулы для получения смещенной оценки ковариации.Кроме того,можно явно установить знаменатель равным ```N − δ```, передавая ```δ``` как значение аргумента ```ddof``` метода ```cov```."
   ]
  },
  {
   "cell_type": "markdown",
   "id": "4c8dfe4a",
   "metadata": {},
   "source": [
    "**Пример**. В качестве примера рассмотрим матрицу из пяти наблюдений для каждой из трех переменных ```x0```, ```x1``` и ```x2```, наблюдаемые значения которых содержатся в трех строках массива ```X```:"
   ]
  },
  {
   "cell_type": "code",
   "execution_count": 34,
   "id": "206b5744",
   "metadata": {},
   "outputs": [],
   "source": [
    "X = np.array([ [0.1, 0.3, 0.4, 0.8, 0.9],\n",
    " [3.2, 2.4, 2.4, 0.1, 5.5],\n",
    " [10., 8.2, 4.3, 2.6, 0.9]\n",
    " ])"
   ]
  },
  {
   "cell_type": "markdown",
   "id": "18311137",
   "metadata": {},
   "source": [
    "Ковариационная матрица представлена массивом 3×3:"
   ]
  },
  {
   "cell_type": "code",
   "execution_count": 35,
   "id": "6bad48de",
   "metadata": {},
   "outputs": [
    {
     "name": "stdout",
     "output_type": "stream",
     "text": [
      "[[ 0.115   0.0575 -1.2325]\n",
      " [ 0.0575  3.757  -0.8775]\n",
      " [-1.2325 -0.8775 14.525 ]]\n"
     ]
    }
   ],
   "source": [
    "print( np.cov(X) )"
   ]
  },
  {
   "cell_type": "markdown",
   "id": "b875b5ad",
   "metadata": {},
   "source": [
    "Элементы на главной диагонали ```Cii``` – это дисперсии переменных ```xi``` с предположением об ```N − 1``` степенях свободы:"
   ]
  },
  {
   "cell_type": "code",
   "execution_count": 36,
   "id": "96e19df8",
   "metadata": {},
   "outputs": [
    {
     "name": "stdout",
     "output_type": "stream",
     "text": [
      "[ 0.115  3.757 14.525]\n"
     ]
    }
   ],
   "source": [
    "print(np.var(X, axis=1, ddof=1))"
   ]
  },
  {
   "cell_type": "markdown",
   "id": "18ec550c",
   "metadata": {},
   "source": [
    "Несмотря на то что величину элементов матрицы ковариации не всегда легко интерпретировать (потому что она зависит от величины отдельных наблюдений, которые могут существенно отличаться для различных переменных),\n",
    "очевидно, что существует сильная антикорреляция между ```x0``` и ```x2``` (C02 = −1.2325:\n",
    "когда одно значение увеличивается, другое уменьшается) и  слабая (несильная) корреляция между ```x0``` и ```x1``` (C01 = 0.0575: ```x0``` и ```x1``` не показывают сильный совместный тренд)."
   ]
  },
  {
   "cell_type": "markdown",
   "id": "12cdb107",
   "metadata": {},
   "source": [
    "Матрица коэффициентов корреляции часто используется вместо матрицы ковариации, так как она нормализована посредством деления элементов ```Cij```\n",
    "на произведение стандартных отклонений переменных:"
   ]
  },
  {
   "cell_type": "markdown",
   "id": "c3c3a6b6",
   "metadata": {},
   "source": [
    "![](6.png)"
   ]
  },
  {
   "cell_type": "markdown",
   "id": "ae073603",
   "metadata": {},
   "source": [
    "Это означает, что элементы ```Pij``` имеют значения от −1 до 1 включительно,\n",
    "а диагональные элементы ```Pii = 1```. В рассматриваемом здесь примере\n",
    "использование метода ```np.corrcoef``` дает следующий результат:"
   ]
  },
  {
   "cell_type": "code",
   "execution_count": 37,
   "id": "136ae472",
   "metadata": {},
   "outputs": [
    {
     "name": "stdout",
     "output_type": "stream",
     "text": [
      "[[ 1.          0.0874779  -0.95363007]\n",
      " [ 0.0874779   1.         -0.11878687]\n",
      " [-0.95363007 -0.11878687  1.        ]]\n"
     ]
    }
   ],
   "source": [
    " print( np.corrcoef(X) )"
   ]
  },
  {
   "cell_type": "markdown",
   "id": "7afb880b",
   "metadata": {},
   "source": [
    "В этой матрице коэффициентов корреляции легко заметить сильную антикорреляцию между ```x0``` и ```x2``` (C0,2 = −0.954) и отсутствие корреляции между ```x1``` и другими переменными (например, C1,0 = 0.087).\n",
    "Оба метода ```np.cov``` и ```np.corrcoeff``` могут принимать второй объект типа массив, содержащий дополнительный набор переменных и  наблюдений, поэтому их можно назвать парой одномерных массивов без объединения в единую\n",
    "матрицу:"
   ]
  },
  {
   "cell_type": "code",
   "execution_count": 38,
   "id": "e76041ff",
   "metadata": {},
   "outputs": [],
   "source": [
    "x = np.array([1., 2., 3., 4., 5.])"
   ]
  },
  {
   "cell_type": "code",
   "execution_count": 39,
   "id": "af617ca7",
   "metadata": {},
   "outputs": [],
   "source": [
    "y = np.array([0.08, 0.31, 0.41, 0.48, 0.62])"
   ]
  },
  {
   "cell_type": "code",
   "execution_count": 40,
   "id": "c58c8bb0",
   "metadata": {},
   "outputs": [
    {
     "name": "stdout",
     "output_type": "stream",
     "text": [
      "[[1.         0.97787645]\n",
      " [0.97787645 1.        ]]\n"
     ]
    }
   ],
   "source": [
    "print( np.corrcoef(x,y) )"
   ]
  },
  {
   "cell_type": "markdown",
   "id": "09b5aed9",
   "metadata": {},
   "source": [
    "Таким образом:"
   ]
  },
  {
   "cell_type": "code",
   "execution_count": 41,
   "id": "967f4a0e",
   "metadata": {},
   "outputs": [
    {
     "data": {
      "text/plain": [
       "array([[1.        , 0.97787645],\n",
       "       [0.97787645, 1.        ]])"
      ]
     },
     "execution_count": 41,
     "metadata": {},
     "output_type": "execute_result"
    }
   ],
   "source": [
    "np.corrcoef(x, y)"
   ]
  },
  {
   "cell_type": "markdown",
   "id": "fb43bd95",
   "metadata": {},
   "source": [
    "представляет собой удобный альтернативный вариант для"
   ]
  },
  {
   "cell_type": "code",
   "execution_count": 42,
   "id": "ff6480ee",
   "metadata": {},
   "outputs": [
    {
     "data": {
      "text/plain": [
       "array([[1.        , 0.97787645],\n",
       "       [0.97787645, 1.        ]])"
      ]
     },
     "execution_count": 42,
     "metadata": {},
     "output_type": "execute_result"
    }
   ],
   "source": [
    "np.corrcoef(np.vstack((x,y)))"
   ]
  },
  {
   "cell_type": "markdown",
   "id": "c28115e5",
   "metadata": {},
   "source": [
    "А если наблюдения располагаются в  строках матрицы в  переменных, соответствующих столбцам (вместо других позиций), то нет необходимости в транспонировании этой матрицы, нужно просто передать аргумент ```rowvar=0```\n",
    "либо в ```np.cov```, либо в ```np.corrcoef```, а NumPy позаботится обо всем."
   ]
  },
  {
   "cell_type": "markdown",
   "id": "f31cfced",
   "metadata": {},
   "source": [
    "**Пример 2**. Отделение цифровых технологий Кембриджского университета\n",
    "(Cambridge University Digital Technology Group) ведет записи наблюдений за погодой с крыши своего корпуса с 1995 г. Эти данные доступны для скачивания в одном CSV-файле в ресурсах."
   ]
  },
  {
   "cell_type": "markdown",
   "id": "91f0eac9",
   "metadata": {},
   "source": [
    "Программа в листинге 1 определяет коэффициент корреляции между атмосферным давлением и температурой в этой местности.\n",
    "\n",
    "**Листинг 1**. Вычисление коэффициента корреляции между температурой воздуха и атмосферным давлением"
   ]
  },
  {
   "cell_type": "code",
   "execution_count": 45,
   "id": "6d366c4a",
   "metadata": {},
   "outputs": [
    {
     "name": "stdout",
     "output_type": "stream",
     "text": [
      "p-T correlation coefficient: 0.0277\n"
     ]
    },
    {
     "data": {
      "image/png": "[encoded data removed]",
      "text/plain": [
       "<Figure size 432x288 with 1 Axes>"
      ]
     },
     "metadata": {
      "needs_background": "light"
     },
     "output_type": "display_data"
    }
   ],
   "source": [
    "# eg6-pT.py\n",
    "import numpy as np\n",
    "import matplotlib.pyplot as plt\n",
    "data = np.genfromtxt('weather-raw.csv', delimiter=',', usecols=(1, 4))\n",
    "# Удаление всех строк, в которых пропущено значение T или значение p.\n",
    "data = data[~np.any(np.isnan(data), axis=1)]\n",
    "# Значения температуры фиксируются после умножения на 10, поэтому необходимо исключить\n",
    "# этот множитель.\n",
    "data[:,0] /= 10\n",
    "# Вычисление коэффициента корреляции.\n",
    "corr = np.corrcoef(data , rowvar=0)[0, 1]\n",
    "print('p-T correlation coefficient: {:.4f}'.format(corr))\n",
    "\n",
    "# Изображение данных на корреляционной диаграмме рассеяния: T по оси x, p по оси y.\n",
    "plt.scatter(*data.T, marker='.')\n",
    "plt.xlabel('$T$ /$\\mathrm{^\\circ C}$')\n",
    "plt.ylabel('$p$ /mbar')\n",
    "plt.show()\n"
   ]
  },
  {
   "cell_type": "markdown",
   "id": "e3626bb3",
   "metadata": {},
   "source": [
    "Вывод дает коэффициент корреляции 0.0260: как и ожидалось, существует весьма слабая корреляция между температурой воздуха и  атмосферным давлением (поскольку плотность воздуха также изменяется)."
   ]
  },
  {
   "cell_type": "markdown",
   "id": "c462da07",
   "metadata": {},
   "source": [
    "В этом наборе данных корреляция между температурой воздуха и атмосферным\n",
    "давлением практически отсутствует"
   ]
  },
  {
   "cell_type": "markdown",
   "id": "48f0ee7f",
   "metadata": {},
   "source": [
    "## Гистограммы"
   ]
  },
  {
   "cell_type": "markdown",
   "id": "6df47142",
   "metadata": {},
   "source": [
    "Функция NumPy ```np.histogram``` создает гистограмму из значений массива. Набор интервалов (bins) определяется по нижнему и верхнему предельным значениям, и каждый интервал заполняется определенным количеством элементов массива, значения которых попадают в  границы интервала. Например, рассмотрим следующий массив, содержащий оценки в процентах 10 студентов\n",
    "на экзамене:"
   ]
  },
  {
   "cell_type": "code",
   "execution_count": 47,
   "id": "edd96aab",
   "metadata": {},
   "outputs": [],
   "source": [
    "marks = np.array([45, 68, 56, 23, 60, 87, 75, 59, 63, 72])"
   ]
  },
  {
   "cell_type": "markdown",
   "id": "bc3469e0",
   "metadata": {},
   "source": [
    "Существует несколько способов определения интервалов гистограммы. Если аргумент ```bins``` является последовательностью, то ее значения определяют границы последовательных интервалов:"
   ]
  },
  {
   "cell_type": "code",
   "execution_count": 48,
   "id": "55769d6d",
   "metadata": {},
   "outputs": [],
   "source": [
    "bins = [20, 40, 60, 80, 100]"
   ]
  },
  {
   "cell_type": "markdown",
   "id": "f156cbba",
   "metadata": {},
   "source": [
    "Эта последовательность определяет четыре интервала с диапазонами ```[20–\n",
    "40 %)```, ```[40–60 %)```, ```[60–80 %)``` и ```[80–100 %]```. Все интервалы, кроме последнего, полуоткрытые, т. е. первый интервал включает метки от 20 %, в том числе саму эту метку, до 40 %, не включая само это значение. Следует отметить, что для последовательности из ```N + 1``` чисел требуется создание ```N``` интервалов. Метод\n",
    "```np.histogram``` возвращает кортеж из значений гистограммы и  ранее определенных границ интервалов (оба набора в виде массивов NumPy).\n",
    "\n"
   ]
  },
  {
   "cell_type": "code",
   "execution_count": 49,
   "id": "72240fab",
   "metadata": {},
   "outputs": [],
   "source": [
    "hist, bins = np.histogram(marks, bins)"
   ]
  },
  {
   "cell_type": "code",
   "execution_count": 50,
   "id": "f1ad227e",
   "metadata": {},
   "outputs": [
    {
     "data": {
      "text/plain": [
       "array([1, 3, 5, 1], dtype=int64)"
      ]
     },
     "execution_count": 50,
     "metadata": {},
     "output_type": "execute_result"
    }
   ],
   "source": [
    " hist"
   ]
  },
  {
   "cell_type": "code",
   "execution_count": 51,
   "id": "b008cdae",
   "metadata": {},
   "outputs": [
    {
     "data": {
      "text/plain": [
       "array([ 20,  40,  60,  80, 100])"
      ]
     },
     "execution_count": 51,
     "metadata": {},
     "output_type": "execute_result"
    }
   ],
   "source": [
    " bins"
   ]
  },
  {
   "cell_type": "markdown",
   "id": "51dca80d",
   "metadata": {},
   "source": [
    "Здесь можно видеть, что в интервале ```20–4%``` имеется одна метка, в интервале ```40–60 %``` находятся три метки и т. д.\n",
    "Если необходимо создать определенное количество равномерно распределенных интервалов, то в  аргументе bins вместо последовательности можно передать одно целое число:"
   ]
  },
  {
   "cell_type": "code",
   "execution_count": 52,
   "id": "202a5fb2",
   "metadata": {},
   "outputs": [
    {
     "data": {
      "text/plain": [
       "(array([1, 1, 3, 3, 2], dtype=int64),\n",
       " array([23. , 35.8, 48.6, 61.4, 74.2, 87. ]))"
      ]
     },
     "execution_count": 52,
     "metadata": {},
     "output_type": "execute_result"
    }
   ],
   "source": [
    "np.histogram(marks, bins=5)"
   ]
  },
  {
   "cell_type": "markdown",
   "id": "4c2ce8ac",
   "metadata": {},
   "source": [
    "По умолчанию требуемое количество интервалов распределяется между минимальным и максимальным значениями массива (в показанном выше примере это значения 23 и 87). Чтобы определить другие значения минимума и максимума, необходимо передать соответствующий кортеж в аргументе ```range```:"
   ]
  },
  {
   "cell_type": "code",
   "execution_count": 53,
   "id": "44376405",
   "metadata": {},
   "outputs": [
    {
     "data": {
      "text/plain": [
       "(array([0, 1, 3, 5, 1], dtype=int64),\n",
       " array([  0.,  20.,  40.,  60.,  80., 100.]))"
      ]
     },
     "execution_count": 53,
     "metadata": {},
     "output_type": "execute_result"
    }
   ],
   "source": [
    " np.histogram(marks, bins=5, range=(0, 100))"
   ]
  },
  {
   "cell_type": "markdown",
   "id": "0aed117c",
   "metadata": {},
   "source": [
    "Метод ```np.histogram``` также принимает необязательный аргумент ```density```:\n",
    "по умолчанию задано значение ```False```, означающее, что возвращаемый массив гистограммы содержит количество значений из исходного массива в каждом интервале. Если для ```density``` задано значение ```True```, то массив гистограммы будет содержать функцию плотности вероятности, нормализованную так, что интеграл по всей площади диапазона интервалов равен единице:"
   ]
  },
  {
   "cell_type": "code",
   "execution_count": 54,
   "id": "182c4282",
   "metadata": {},
   "outputs": [],
   "source": [
    "hist, bins = np.histogram(marks, bins=5, range=(0,100),density=True)"
   ]
  },
  {
   "cell_type": "code",
   "execution_count": 55,
   "id": "bb871c47",
   "metadata": {},
   "outputs": [
    {
     "name": "stdout",
     "output_type": "stream",
     "text": [
      "[0.    0.005 0.015 0.025 0.005]\n"
     ]
    }
   ],
   "source": [
    "print(hist)"
   ]
  },
  {
   "cell_type": "code",
   "execution_count": 56,
   "id": "293e7a6e",
   "metadata": {},
   "outputs": [],
   "source": [
    " bin_width = 100/5"
   ]
  },
  {
   "cell_type": "code",
   "execution_count": 57,
   "id": "e5897f33",
   "metadata": {},
   "outputs": [
    {
     "name": "stdout",
     "output_type": "stream",
     "text": [
      "0.9999999999999999\n"
     ]
    }
   ],
   "source": [
    "print(np.sum(hist) * bin_width)"
   ]
  },
  {
   "cell_type": "markdown",
   "id": "38c830b1",
   "metadata": {},
   "source": [
    "(Здесьпод интегралом подразумевается площадь внутри гистограммы,представленная суммой произведений высоты каждого интервала на его ширину.)\n",
    "Для вывода гистограммы с  помощью ```pyplot``` используется метод ```pyplot.hist``` с  передачей в  него тех же аргументов, которые передавались в  метод\n",
    "```np.histogram```:"
   ]
  },
  {
   "cell_type": "code",
   "execution_count": 58,
   "id": "6637922a",
   "metadata": {},
   "outputs": [],
   "source": [
    "import matplotlib.pyplot as plt"
   ]
  },
  {
   "cell_type": "code",
   "execution_count": 60,
   "id": "f1cfd227",
   "metadata": {},
   "outputs": [
    {
     "data": {
      "text/plain": [
       "(array([0., 1., 3., 5., 1.]), array([  0.,  20.,  40.,  60.,  80., 100.]))"
      ]
     },
     "execution_count": 60,
     "metadata": {},
     "output_type": "execute_result"
    },
    {
     "data": {
      "image/png": "[encoded data removed]",
      "text/plain": [
       "<Figure size 432x288 with 1 Axes>"
      ]
     },
     "metadata": {
      "needs_background": "light"
     },
     "output_type": "display_data"
    }
   ],
   "source": [
    "hist, bins, patches = plt.hist(marks, bins=5, range=(0, 100))\n",
    "hist, bins"
   ]
  },
  {
   "cell_type": "code",
   "execution_count": 62,
   "id": "3d5ed6e4",
   "metadata": {},
   "outputs": [],
   "source": [
    "plt.show()"
   ]
  },
  {
   "cell_type": "markdown",
   "id": "473eb69e",
   "metadata": {},
   "source": [
    "В дополнение к счетчикам (hist) и границам (bins) метод ```pyplot``` возвращает список ссылок на «патчи» (patches), которые появляются на изображаемой фигуре."
   ]
  },
  {
   "cell_type": "markdown",
   "id": "1681f8b5",
   "metadata": {},
   "source": [
    "# Упражнения"
   ]
  },
  {
   "cell_type": "markdown",
   "id": "6e1839ba",
   "metadata": {},
   "source": [
    "## Задачи"
   ]
  },
  {
   "cell_type": "markdown",
   "id": "5aa46e93",
   "metadata": {},
   "source": [
    "**Задача 1**. \n",
    "В некоторой лотерее участвуют игроки, выбирающие шесть чисел без\n",
    "замены из интервала ```[1, 49]```. Джекпот разделяется между игроками, угадавшими все шесть чисел («выпавших лотерейных шаров»), выбранных случайным образом в розыгрыше, который проводится каждые две недели (порядок угаданных чисел не имеет значения). Если ни один из игроков не угадал каждое выпавшее число, то джекпот считается неразыгранным и добавляется к джекпоту следующего розыгрыша.\n",
    "Несмотря на то что эта лотерея честная в том смысле, что каждая комбинация случайно выбираемых чисел является равновероятной, было сделано следующее наблюдение: многие игроки отдают предпочтение выбору определенных чисел, например представляющих даты (т.е. большинство выбираемых чисел находится в интервале [1, 31], как будто эти числа ожидаются в большей степени, чем выбираемые случайно). Поэтому, чтобы избежать дележа джекпота, следовательно, получить максимальный выигрыш в одиночку, имеет смысл не использовать эти числа.\n",
    "\n",
    "Проверить это предположение, установив, существует ли какая-либо связь\n",
    "(корреляция) между количеством шаров со значениями меньше 13 (представляющих номер месяца) и  выигрышами джекпота одним человеком. Не  учитывать розыгрыши, которые приводили к  увеличению джекпота (т.е. без выигравших текущий джекпот). Необходимые данные ```lottery-draws.txt``` можно скачать в ресурсах."
   ]
  },
  {
   "cell_type": "markdown",
   "id": "588b152e",
   "metadata": {},
   "source": [
    "**Задача 2**. В этом разделе мы видели, как создать графическое изображение гистограммы из массива с  помощью метода ```pyplot.hist```, но предположим, что массивы ```hist``` и ```bins``` уже созданы с использованием метода ```np.histogram``` и необходимо построить итоговую гистограмму по этим массивам. Невозможно\n",
    "воспользоваться ```pyplot.hist```, потому что эта функция ожидает для обработки\n",
    "массив исходных данных. Необходимо использовать ```pyplot.bar``` для создания\n",
    "изображения по массиву ```hist``` в виде столбиковой диаграммы (bar chart, собственно, это и есть гистограмма)."
   ]
  },
  {
   "cell_type": "markdown",
   "id": "b99769bb",
   "metadata": {},
   "source": [
    "**Задача 3**\n",
    "Значения роста в  сантиметрах в  выборке из  1000 взрослых мужчин и  1000 взрослых женщин из определенной совокупности собраны в  файлах данных ```ex6-3-f-male-heights.txt``` и  ```ex6-3-f-female-heights.txt```, доступных в ресурсах. Прочитать эти данные и  вычислить среднее значение и стандартное отклонение по каждому полу. Создать гистограммы для\n",
    "этих двух наборов данных с использованием наиболее подходящего интервала и показать их графически на одном изображении.\n",
    "Решить эту же задачу в единицах британской системы (в футах и дюймах)."
   ]
  }
 ],
 "metadata": {
  "kernelspec": {
   "display_name": "Python 3 (ipykernel)",
   "language": "python",
   "name": "python3"
  },
  "language_info": {
   "codemirror_mode": {
    "name": "ipython",
    "version": 3
   },
   "file_extension": ".py",
   "mimetype": "text/x-python",
   "name": "python",
   "nbconvert_exporter": "python",
   "pygments_lexer": "ipython3",
   "version": "3.12.6"
  }
 },
 "nbformat": 4,
 "nbformat_minor": 5
}
