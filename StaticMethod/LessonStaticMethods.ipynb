{
 "cells": [
  {
   "cell_type": "markdown",
   "id": "d563d894-5344-4ed4-ad21-cf4bae8c2b25",
   "metadata": {},
   "source": [
    "# Задача 1"
   ]
  },
  {
   "cell_type": "code",
   "execution_count": 1,
   "id": "933bce1b-6c14-4118-96b1-6aacd86d7c29",
   "metadata": {},
   "outputs": [
    {
     "name": "stdout",
     "output_type": "stream",
     "text": [
      "[[ 1.         -0.19909853]\n",
      " [-0.19909853  1.        ]]\n"
     ]
    }
   ],
   "source": [
    "import sys\n",
    "import numpy as np\n",
    "import pylab\n",
    "\n",
    "def parse_line(fi):\n",
    "    # skip header rows\n",
    "    fi.readline()\n",
    "    fi.readline()\n",
    "    rollover = False\n",
    "    for line in fi:\n",
    "        fields = line.split()\n",
    "        nwinners = int(fields[6])\n",
    "        if nwinners == 0:\n",
    "            rollover = True\n",
    "            continue\n",
    "        if rollover:\n",
    "            rollover = False\n",
    "            continue\n",
    "        balls = np.array([int(v) for v in fields[:6]])\n",
    "        jackpot_share = float(fields[7])\n",
    "        nlow = sum(balls < 13)\n",
    "        yield nlow, jackpot_share\n",
    "\n",
    "with open('lottery-draws.txt') as fi:\n",
    "    data = list(parse_line(fi))\n",
    "data = np.array(data)\n",
    "\n",
    "print(np.corrcoef(data, rowvar=0))"
   ]
  },
  {
   "cell_type": "markdown",
   "id": "78f64930-ae6a-4308-9ff3-f496366eecb6",
   "metadata": {},
   "source": [
    "# Задание 2"
   ]
  },
  {
   "cell_type": "code",
   "execution_count": 4,
   "id": "ec3b8403-1275-4f4f-9dd8-7d7881bad966",
   "metadata": {},
   "outputs": [
    {
     "data": {
      "text/plain": [
       "<BarContainer object of 4 artists>"
      ]
     },
     "execution_count": 4,
     "metadata": {},
     "output_type": "execute_result"
    },
    {
     "data": {
      "image/png": "[encoded data removed]",
      "text/plain": [
       "<Figure size 640x480 with 1 Axes>"
      ]
     },
     "metadata": {},
     "output_type": "display_data"
    }
   ],
   "source": [
    "marks = np.array([45, 68, 56, 23, 60, 87, 75, 59, 63, 72])\n",
    "bins = [20, 40, 60, 80, 100]\n",
    "hist, bins = np.histogram(marks, bins)\n",
    "bin_centres = (bins[:-1] + bins[1:])/2\n",
    "pylab.bar(bin_centres, hist, width=20, align='center')"
   ]
  },
  {
   "cell_type": "markdown",
   "id": "8beef06d-1f24-4717-84af-4f2b69f730fc",
   "metadata": {},
   "source": [
    "# Задание 3"
   ]
  },
  {
   "cell_type": "code",
   "execution_count": 7,
   "id": "9f71ac5f-42cf-43c0-8a98-2663ab1dd8a3",
   "metadata": {},
   "outputs": [
    {
     "name": "stdout",
     "output_type": "stream",
     "text": [
      "Height (cm)  Female  Male\n",
      "---------------------------\n",
      "  135-140       0      1\n",
      "  140-145       3      0\n",
      "  145-150      26      2\n",
      "  150-155      79      3\n",
      "  155-160     183     37\n",
      "  160-165     237     59\n",
      "  165-170     262    115\n",
      "  170-175     145    149\n",
      "  175-180      52    174\n",
      "  180-185      11    161\n",
      "  185-190       2    137\n",
      "  190-195       0     88\n",
      "  195-200       0     50\n",
      "  200-205       0     19\n",
      "  205-210       0      5\n",
      "---------------------------\n",
      "Mean (cm):   164.1  178.8\n",
      " Std (cm):     7.4   10.8\n",
      "---------------------------\n"
     ]
    },
    {
     "data": {
      "image/png": "[encoded data removed]",
      "text/plain": [
       "<Figure size 640x480 with 1 Axes>"
      ]
     },
     "metadata": {},
     "output_type": "display_data"
    }
   ],
   "source": [
    "import numpy\n",
    "heights = np.zeros((1000,), dtype={'names': ['female', 'male'],\n",
    "                                   'formats': ['f8', 'f8']})\n",
    "heights['female'] = np.loadtxt('ex6-3-f-female-heights.txt').flatten()\n",
    "heights['male'] = np.loadtxt('ex6-3-f-male-heights.txt').flatten()\n",
    "fav, fstd = heights['female'].mean(), heights['female'].std()\n",
    "mav, mstd = heights['male'].mean(), heights['male'].std()\n",
    "all_heights_view = heights.view((('f8', 2))).flatten()\n",
    "all_heights_view.min(), all_heights_view.max()\n",
    "bins = np.linspace(135, 210, 16)\n",
    "mhist, _, _ = pylab.hist(heights['male'], bins, color='b')\n",
    "fhist, _, _ = pylab.hist(heights['female'], bins, alpha=0.75, color='m')\n",
    "print('Height (cm)  Female  Male')\n",
    "print('-'*27)\n",
    "for b, f, m in np.vstack((bins[:-1], fhist, mhist)).T:\n",
    "    print('  {:d}-{:d}     {:3d}    {:3d}'.format(int(b), int(b)+5,\n",
    "                                                   int(f), int(m)))\n",
    "print('-'*27)\n",
    "print('Mean (cm):   {:5.1f}  {:5.1f}'.format(fav, mav))\n",
    "print(' Std (cm):   {:5.1f}  {:5.1f}'.format(fstd, mstd))\n",
    "print('-'*27)"
   ]
  }
 ],
 "metadata": {
  "kernelspec": {
   "display_name": "Python 3 (ipykernel)",
   "language": "python",
   "name": "python3"
  },
  "language_info": {
   "codemirror_mode": {
    "name": "ipython",
    "version": 3
   },
   "file_extension": ".py",
   "mimetype": "text/x-python",
   "name": "python",
   "nbconvert_exporter": "python",
   "pygments_lexer": "ipython3",
   "version": "3.12.6"
  }
 },
 "nbformat": 4,
 "nbformat_minor": 5
}
